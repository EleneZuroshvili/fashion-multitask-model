{
 "cells": [
  {
   "cell_type": "markdown",
   "metadata": {},
   "source": [
    "## Attribute Prediction \n",
    "\n",
    "---\n",
    "\n",
    "#### Anno_fine – Train/Val/Test Subfolders\n",
    "\n",
    "Each split (`train/`, `val/`, `test/`) includes:\n",
    "\n",
    "- `*.txt` – image filenames for the split\n",
    "- `*_cate.txt` – category label (integer) for each image\n",
    "- `*_attr.txt` – multi-label attribute vector (1 = present, -1 = absent, 0 = unknown)\n",
    "- `*_bbox.txt` – bounding box coordinates `[x1, y1, x2, y2]`\n",
    "- `*_landmarks.txt` – fashion landmark coordinates \n",
    "\n",
    "---\n",
    "\n",
    "#### File Descriptions (in Anno_fine root)\n",
    "\n",
    "- `list_attr_cloth.txt`  \n",
    "  Attribute names and their types; maps indices to names.\n",
    "\n",
    "- `list_attr_img.txt`  \n",
    "  Attribute vectors for all images in the dataset (not needed if using pre-split files).\n",
    "\n",
    "---\n",
    "\n",
    "#### Eval/list_eval_partition.txt\n",
    "\n",
    "Maps image names to `train`, `val`, or `test`.  \n",
    "Used to create splits — already applied in `Anno_fine`.\n",
    "\n",
    "---\n",
    "\n",
    "#### img/\n",
    "\n",
    "Contains all image files (JPG), referenced by the filenames listed in `train.txt`, `val.txt`, and `test.txt`.\n",
    "\n"
   ]
  },
  {
   "cell_type": "code",
   "execution_count": 1,
   "metadata": {},
   "outputs": [
    {
     "name": "stdout",
     "output_type": "stream",
     "text": [
      "Total attributes: 26\n",
      "Header: attribute_name   attribute_type\n",
      "First 5 attributes:\n",
      "floral               1\n",
      "graphic              1\n",
      "striped              1\n",
      "embroidered          1\n",
      "pleated              1\n"
     ]
    }
   ],
   "source": [
    "file_path = \"../data/attribute pred/Anno_fine/list_attr_cloth.txt\"\n",
    "\n",
    "with open(file_path, \"r\") as f:\n",
    "    lines = f.readlines()\n",
    "\n",
    "print(\"Total attributes:\", lines[0].strip())\n",
    "print(\"Header:\", lines[1].strip())\n",
    "print(\"First 5 attributes:\")\n",
    "for line in lines[2:7]:\n",
    "    print(line.strip())\n"
   ]
  },
  {
   "cell_type": "code",
   "execution_count": 2,
   "metadata": {},
   "outputs": [
    {
     "name": "stdout",
     "output_type": "stream",
     "text": [
      "Total categories: 50\n",
      "Header: category_name  category_type\n",
      "\n",
      "First 5 categories with types:\n",
      "Anorak         1\n",
      "Blazer         1\n",
      "Blouse         1\n",
      "Bomber         1\n",
      "Button-Down    1\n"
     ]
    }
   ],
   "source": [
    "file_path = \"../data/attribute pred/Anno_fine/list_category_cloth.txt\"\n",
    "\n",
    "with open(file_path, \"r\") as f:\n",
    "    lines = f.readlines()\n",
    "\n",
    "num_categories = int(lines[0].strip())\n",
    "header = lines[1].strip()\n",
    "cat_lines = lines[2:]\n",
    "\n",
    "print(\"Total categories:\", num_categories)\n",
    "print(\"Header:\", header)\n",
    "print(\"\\nFirst 5 categories with types:\")\n",
    "for line in cat_lines[:5]:\n",
    "    print(line.strip())\n"
   ]
  },
  {
   "cell_type": "markdown",
   "metadata": {},
   "source": [
    "## In-shop Clothes Retrieval\n",
    "\n",
    "---\n",
    "\n",
    "#### Eval/list_eval_partition.txt\n",
    "\n",
    "Main annotation file for this benchmark.  \n",
    "Each line has:  \n",
    "`<image_name>  <item_id>  <split>`  \n",
    "Where `split ∈ {train, query, gallery}`.\n",
    "\n",
    "- **train** → images used to learn visual embeddings  \n",
    "- **query** → images used to test retrieval  \n",
    "- **gallery** → database of images the model searches over\n",
    "\n",
    "---\n",
    "\n",
    "#### list_item_inshop.txt\n",
    "\n",
    "A list of all unique item IDs in the dataset.  \n",
    "Useful for identifying the number of distinct clothing pieces.\n",
    "\n",
    "---\n",
    "\n",
    "#### img/\n",
    "\n",
    "Contains all in-shop images, organized into folders like:  \n",
    "`img/WOMEN/Blouses_Shirts/id_00000001/02_2_side.jpg`\n",
    "\n",
    "These are referenced directly by `list_eval_partition.txt`.\n",
    "\n",
    "---\n",
    "\n",
    "#### Notes\n",
    "\n",
    "- Retrieval task is evaluated by comparing query images to gallery images.\n",
    "- A successful retrieval returns items with the **same `item_id`** from different views (e.g., front, side).\n",
    "- This benchmark does **not** use category or attribute labels — only **item identity** matters.\n"
   ]
  },
  {
   "cell_type": "code",
   "execution_count": 1,
   "metadata": {},
   "outputs": [
    {
     "name": "stdout",
     "output_type": "stream",
     "text": [
      "Total images: 52712\n",
      "Header: image_name item_id evaluation_status\n",
      "\n",
      "First 5 entries:\n",
      "img/WOMEN/Dresses/id_00000002/02_1_front.jpg                           id_00000002 train\n",
      "img/WOMEN/Dresses/id_00000002/02_2_side.jpg                            id_00000002 train\n",
      "img/WOMEN/Dresses/id_00000002/02_4_full.jpg                            id_00000002 train\n",
      "img/WOMEN/Dresses/id_00000002/02_7_additional.jpg                      id_00000002 train\n",
      "img/WOMEN/Skirts/id_00000003/02_1_front.jpg                            id_00000003 train\n"
     ]
    }
   ],
   "source": [
    "file_path = \"/Users/elenezuroshvili/Desktop/Thesis/fashion-multitask-model/data/retrieval/list_eval_partition.txt\"\n",
    "\n",
    "with open(file_path, \"r\") as f:\n",
    "    lines = f.readlines()\n",
    "\n",
    "print(\"Total images:\", lines[0].strip())\n",
    "print(\"Header:\", lines[1].strip())\n",
    "print(\"\\nFirst 5 entries:\")\n",
    "for line in lines[2:7]:\n",
    "    print(line.strip())"
   ]
  },
  {
   "cell_type": "code",
   "execution_count": 2,
   "metadata": {},
   "outputs": [
    {
     "name": "stdout",
     "output_type": "stream",
     "text": [
      "\n",
      " Total unique item IDs listed: 7982\n",
      " First 5 item IDs: ['id_00000001', 'id_00000002', 'id_00000003', 'id_00000004', 'id_00000005']\n"
     ]
    }
   ],
   "source": [
    "import os\n",
    "\n",
    "base_path = \"/Users/elenezuroshvili/Desktop/Thesis/fashion-multitask-model/data/retrieval/Anno/list_item_inshop.txt\"\n",
    "with open(base_path, \"r\") as f:\n",
    "    item_lines = f.readlines()\n",
    "\n",
    "num_items = int(item_lines[0].strip())\n",
    "item_ids = [line.strip() for line in item_lines[1:]]\n",
    "\n",
    "print(f\"\\n Total unique item IDs listed: {num_items}\")\n",
    "print(\" First 5 item IDs:\", item_ids[:5])"
   ]
  },
  {
   "cell_type": "code",
   "execution_count": null,
   "metadata": {},
   "outputs": [],
   "source": []
  }
 ],
 "metadata": {
  "kernelspec": {
   "display_name": "venv",
   "language": "python",
   "name": "python3"
  },
  "language_info": {
   "codemirror_mode": {
    "name": "ipython",
    "version": 3
   },
   "file_extension": ".py",
   "mimetype": "text/x-python",
   "name": "python",
   "nbconvert_exporter": "python",
   "pygments_lexer": "ipython3",
   "version": "3.8.20"
  }
 },
 "nbformat": 4,
 "nbformat_minor": 2
}
